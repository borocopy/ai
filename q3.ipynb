{
 "cells": [
  {
   "cell_type": "markdown",
   "id": "d847d13e",
   "metadata": {},
   "source": [
    "## 1.1 Теоретический материал — Функции Python\n",
    "\n",
    "Перед тем как рассматривать задачи классификации вспомним понятие функции (метода) в Python. Функция в python — объект, принимающий аргументы и возвращающий значение. Обычно функция определяется с помощью инструкции `def`.\n",
    "\n",
    "Определим простейшую функцию:\n",
    "``` python\n",
    "def add(x, y):\n",
    "    return x + y\n",
    "```\n",
    "Инструкция `return` говорит, что нужно вернуть значение. В нашем случае функция возвращает сумму x и y. Теперь мы её можем вызвать:\n",
    "``` python\n",
    "add(1, 10)  # 11\n",
    "add('abc', 'def')  # 'abcdef\n",
    "```\n",
    "Функция может быть любой сложности и возвращать любые объекты (списки, кортежи и даже функции):\n",
    "``` python\n",
    "def new_func(n):\n",
    "    def my_func(x):\n",
    "        return x + n\n",
    "    return my_func\n",
    "\n",
    "new = new_func(100)\n",
    "new(200)  # 300\n",
    "```\n",
    "Функция может и не заканчиваться инструкцией `return`, при этом функция вернёт значение None:\n",
    "``` python\n",
    "def func():\n",
    "    pass\n",
    "print(func())  # None\n",
    "```\n",
    "Функция может принимать произвольное количество аругментов или не принимать их вовсе. Также распространены функции с произвольным числом аргументов, функции с позиционными и именованными аргументами, обязательными и необязательными.\n",
    "``` python\n",
    "def func(*args):\n",
    "    return args\n",
    "\n",
    "func(1, 2, 3, 'abc')  # (1, 2, 3, 'abc')\n",
    "func()  # ()\n",
    "func(1)  # (1,)\n",
    "```\n",
    "Как видно из примера, args — это кортеж из всех переданных аргументов функции, и с переменой можно работать также, как и с кортежем.\n",
    "\n",
    "Функция может принимать и произвольное число именованных аргументов, тогда перед именем становится **:\n",
    "``` python\n",
    "def func(**kwargs):\n",
    "    return kwargs\n",
    "\n",
    "func(a=1, b=2, c=3)  # {'a': 1, 'c': 3, 'b': 2}\n",
    "func()  # ()\n",
    "func(a='python')  # {'a': 'python'}\n",
    "```\n",
    "## 1.2.1 Пример\n",
    "### Задача:\n",
    "\n",
    "Напишите функцию `sum_range(start. end)`, которая суммирует все целые числа от значения `start` до величины `end` включительно. Если пользователь задаст первое число большее чем второе, просто поменяйте их местами.\n",
    "### Решение:"
   ]
  },
  {
   "cell_type": "code",
   "execution_count": 1,
   "id": "3af5d938",
   "metadata": {},
   "outputs": [],
   "source": [
    "def sum_range(start, end):\n",
    "    if start > end:\n",
    "        end, start = start, end\n",
    "    return sum(range(start, end + 1))"
   ]
  },
  {
   "cell_type": "code",
   "execution_count": 2,
   "id": "39f9426d",
   "metadata": {},
   "outputs": [
    {
     "data": {
      "text/plain": [
       "77"
      ]
     },
     "execution_count": 2,
     "metadata": {},
     "output_type": "execute_result"
    },
    {
     "data": {
      "text/plain": [
       "77"
      ]
     },
     "execution_count": 2,
     "metadata": {},
     "output_type": "execute_result"
    }
   ],
   "source": [
    "sum_range(2, 12)"
   ]
  },
  {
   "cell_type": "code",
   "execution_count": null,
   "id": "a72c5df6",
   "metadata": {},
   "outputs": [],
   "source": [
    "sum_range(-4, 4)"
   ]
  },
  {
   "cell_type": "code",
   "execution_count": null,
   "id": "86493265",
   "metadata": {},
   "outputs": [],
   "source": [
    "sum_range(3, 2)"
   ]
  },
  {
   "cell_type": "markdown",
   "id": "d309be80",
   "metadata": {},
   "source": [
    "## 1.2.2 Пример\n",
    "### Задача:\n",
    "\n",
    "Напишите рекурсивную функцию вычисления факториала на языке Python.\n",
    "### Решение:"
   ]
  },
  {
   "cell_type": "code",
   "execution_count": 5,
   "id": "62c23a88",
   "metadata": {},
   "outputs": [],
   "source": [
    "def fact(num):\n",
    "    if num == 0:\n",
    "        return 1\n",
    "    else:\n",
    "        return num * fact(num - 1)"
   ]
  },
  {
   "cell_type": "code",
   "execution_count": 6,
   "id": "f6985c57",
   "metadata": {},
   "outputs": [
    {
     "data": {
      "text/plain": [
       "120"
      ]
     },
     "execution_count": 6,
     "metadata": {},
     "output_type": "execute_result"
    }
   ],
   "source": [
    "fact(5)"
   ]
  },
  {
   "cell_type": "markdown",
   "id": "17917757",
   "metadata": {},
   "source": [
    "## 1.1 Теоретический материал — Расстояние между объектами класса\n",
    "### Определение расстояния между объектами класса\n",
    "\n",
    "Сходство или различие между объектами классификации устанавливается в зависимости от выбранного метрического расстояния между ними. Если каждый объект описывается n свойствами (признаками), то он может быть представлен как точка в n-мерном пространстве, и сходство с другими объектами будет определяться как соотвествующее расстояние. При классификации используются различные меры расстояния между объектами.\n",
    "\n",
    "_1. Евклидово растояние_\n",
    "\n",
    "Это, пожалуй, наиболее часто используемая мера расстония. Она является геометрическим расстоянием в многомерном пространстве и вычисляется следующим образом:\n",
    "\n",
    "$$P=\\sqrt{\\sum_{i=1}^{N}(A_{i}-B{i})^2}$$\n",
    "\n",
    "где:\n",
    "- $P$ — расстояние между объектами A и B;\n",
    "- $A_{i}$ — значение i-го свойства объекта A;\n",
    "- $B_{i}$ — значение i-го свойства объекта B.\n",
    "\n",
    "_2. Квадрат евклидова расстояния_\n",
    "\n",
    "Данная мера расстояния используется в тех случаях, когда требуется придать большее значение более отдалённым друг от друга объектам. Это расстояние вычисляется следующим образом:\n",
    "\n",
    "$$P=\\sum_{i=1}^{N}(A_{i}-B_{i})^2$$\n",
    "\n",
    "_3. Взвешенное евклидово расстояние_\n",
    "\n",
    "Применяется в тех случаях, когда каждому i-му свойству удаётся приписать некоторый \"вес\" $w_{i}$ пропорционально степени важности признака в задаче классификации:\n",
    "\n",
    "$$P=\\sqrt{\\sum_{i=1}^{N}w_{i}(A_{i}-B{i})^2}$$\n",
    "\n",
    "_4. Хеммингово расстояние_\n",
    "\n",
    "Также называется манхэттенским, сити-блок расстоянием или расстоянием городских кварталов. Это расстояние является разностью по координатам. Хеммингово расстояние вычисляется по формуле:\n",
    "\n",
    "$$P=\\sum_{i=1}^{N}(|A_{i}|-|B_{i}|)$$\n",
    "\n",
    "_5. Расстояние Чебышёва_\n",
    "\n",
    "Принимает значение наибольшего модуля разности между значениями соотвествующих свойств (признаков) объектов:\n",
    "\n",
    "$$P=max{|A_{i}-B_{i}|}$$\n",
    "\n",
    "Выбор меры расстояния и весов для классифицирующихся свойств — очень важный этап, так как от этих процедур зависят состав и количество формируемых классов, а также степень сходства объектов внутри классов.\n",
    "## 1.2.3 Пример\n",
    "### Задача:\n",
    "\n",
    "Напишите функцию в Python, которая вычисляет Евклидово расстояние между двумя массивами `NumPy`.\n",
    "### Решение:"
   ]
  },
  {
   "cell_type": "code",
   "execution_count": 7,
   "id": "b0ec4402",
   "metadata": {},
   "outputs": [
    {
     "data": {
      "text/plain": [
       "5.196152422706632"
      ]
     },
     "execution_count": 7,
     "metadata": {},
     "output_type": "execute_result"
    }
   ],
   "source": [
    "import numpy as np\n",
    "\n",
    "\n",
    "def euclidean_distance(v1, v2):\n",
    "    return sum((x - y) ** 2 for x, y in zip(v1, v2)) ** 0.5\n",
    "\n",
    "\n",
    "x = np.array([0, 0, 0])\n",
    "y = np.array([3, 3, 3])\n",
    "euclidean_distance(x, y)"
   ]
  },
  {
   "cell_type": "markdown",
   "id": "d59a1ea1",
   "metadata": {},
   "source": [
    "## 1.2.4 Пример\n",
    "### Задача:\n",
    "\n",
    "Напишите 4 функции в Python, которые рассчитывают квадрат Евклидова расстояния, взвешенное евклидово расстояние, Хеммингово расстояние и расстояние Чебышёва между двумя массивами `NumPy`.\n",
    "### Решение:"
   ]
  },
  {
   "cell_type": "code",
   "execution_count": 8,
   "id": "cdd0c0fa",
   "metadata": {},
   "outputs": [
    {
     "name": "stdout",
     "output_type": "stream",
     "text": [
      "27\n",
      "3.0\n",
      "9\n",
      "3\n"
     ]
    }
   ],
   "source": [
    "def sqr_euclidean_distance(v1, v2):\n",
    "    return sum((x - y) ** 2 for x, y in zip(v1, v2))\n",
    "\n",
    "\n",
    "def weighted_euclidean_distance(v1, v2, w):\n",
    "    return sum((x - y) ** 2 * s for x, y, s in zip(v1, v2, w)) ** 0.5\n",
    "\n",
    "\n",
    "def manhattan_distance(v1, v2):\n",
    "    return sum(abs(x - y) for x, y in zip(v1, v2))\n",
    "\n",
    "\n",
    "def chebyshev_distance(v1, v2):\n",
    "    return max(abs(x - y) for x, y in zip(v1, v2))\n",
    "\n",
    "\n",
    "x = np.array([0, 0, 0])\n",
    "y = np.array([3, 3, 3])\n",
    "w = np.array([0, 0, 1])\n",
    "print(sqr_euclidean_distance(x, y))\n",
    "print(weighted_euclidean_distance(x, y, w))\n",
    "print(manhattan_distance(x, y))\n",
    "print(chebyshev_distance(x, y))"
   ]
  },
  {
   "cell_type": "markdown",
   "id": "a5b2e577",
   "metadata": {},
   "source": [
    "## 1.2.5 Пример\n",
    "### Задача:\n",
    "\n",
    "В Python есть встроенные функции для вычисления расстояний между двумя векторами. Мы будем использовать `NumPy` для расчёта расстояния для двух точек, поскольку ранее рассмотренные структуры данных могут быть переведены в Numpy массив с помощью специальных функций. Например, для серий это будет выглядеть следующим образом:\n",
    "```\n",
    "seriesName.to_numpy()\n",
    "```\n",
    "Для удобства визуализации и анализа результатов в дальнейших расчётах будем использовать 2 точки в трёхмерном пространстве.\n",
    "### Решение:"
   ]
  },
  {
   "cell_type": "code",
   "execution_count": 9,
   "id": "c1aaa5c1",
   "metadata": {},
   "outputs": [
    {
     "data": {
      "image/png": "[encoded data removed]",
      "text/plain": [
       "<Figure size 640x480 with 1 Axes>"
      ]
     },
     "metadata": {},
     "output_type": "display_data"
    }
   ],
   "source": [
    "import matplotlib.pyplot as plt\n",
    "from mpl_toolkits.mplot3d import Axes3D\n",
    "\n",
    "fig = plt.figure()\n",
    "ax = fig.add_subplot(111, projection = '3d')\n",
    "\n",
    "ax.scatter(0, 0, 0)\n",
    "ax.scatter(3, 3, 3)\n",
    "plt.show()"
   ]
  },
  {
   "cell_type": "markdown",
   "id": "6eeaafcd",
   "metadata": {},
   "source": [
    "## 1.2.6 Пример\n",
    "### Задача:\n",
    "\n",
    "Рассчитать расстояние между двумя точками с использованием методов определения расстояний, представленных выше.\n",
    "### Решение:"
   ]
  },
  {
   "cell_type": "code",
   "execution_count": 10,
   "id": "635f2368",
   "metadata": {},
   "outputs": [
    {
     "name": "stdout",
     "output_type": "stream",
     "text": [
      "5.196152422706632\n",
      "27.0\n",
      "3.0\n",
      "9.0\n"
     ]
    }
   ],
   "source": [
    "# расстоняние Евклида\n",
    "print(np.linalg.norm(x - y))\n",
    "\n",
    "# квадрат Евклидова расстояния\n",
    "print(np.linalg.norm(x - y) ** 2)\n",
    "\n",
    "# расстояние Чебышёва\n",
    "print(np.linalg.norm(x - y, ord=np.inf))\n",
    "\n",
    "# расстояние Хемминга\n",
    "print(np.linalg.norm(x - y, ord=1))"
   ]
  },
  {
   "cell_type": "markdown",
   "id": "b3e7adf8",
   "metadata": {},
   "source": [
    "## 1.3.1 Задание:\n",
    "### Задача:\n",
    "\n",
    "Задайте 4 точки в трёхмерном пространстве, рассчитайте между ними расстояния по описанным в примере выше метрикам. Отобразите точки в трёхмерном пространстве.\n",
    "### Решение:"
   ]
  },
  {
   "cell_type": "code",
   "execution_count": 11,
   "id": "a0f61cca",
   "metadata": {},
   "outputs": [
    {
     "name": "stdout",
     "output_type": "stream",
     "text": [
      "p1, p2: (2.449489742783178, 5.999999999999999, 2.0, 4.0)\n",
      "p1, p3: (6.4031242374328485, 41.0, 6.0, 9.0)\n",
      "p1, p4: (3.7416573867739413, 14.0, 3.0, 6.0)\n",
      "p2, p3: (6.557438524302, 42.99999999999999, 5.0, 11.0)\n",
      "p2, p4: (4.242640687119285, 17.999999999999996, 4.0, 6.0)\n",
      "p3, p4: (4.58257569495584, 21.0, 4.0, 7.0)\n"
     ]
    },
    {
     "data": {
      "image/png": "[encoded data removed]",
      "text/plain": [
       "<Figure size 640x480 with 1 Axes>"
      ]
     },
     "metadata": {},
     "output_type": "display_data"
    }
   ],
   "source": [
    "p1 = np.array([1, 2, 3])\n",
    "p2 = np.array([-1, 3, 2])\n",
    "p3 = np.array([2, 0, -3])\n",
    "p4 = np.array([0, -1, 1])\n",
    "points = [p1, p2, p3, p4]\n",
    "\n",
    "\n",
    "def distances(x, y):\n",
    "    return np.linalg.norm(x - y), np.linalg.norm(x - y) ** 2, \\\n",
    "    np.linalg.norm(x - y, ord=np.inf), np.linalg.norm(x - y, ord=1)\n",
    "\n",
    "\n",
    "print(f'p1, p2: {distances(p1, p2)}', f'p1, p3: {distances(p1, p3)}',\n",
    "      f'p1, p4: {distances(p1, p4)}', f'p2, p3: {distances(p2, p3)}',\n",
    "      f'p2, p4: {distances(p2, p4)}', f'p3, p4: {distances(p3, p4)}', sep='\\n')\n",
    "\n",
    "fig = plt.figure()\n",
    "ax = fig.add_subplot(projection = '3d')\n",
    "\n",
    "ax.scatter(1, 2, 3)\n",
    "ax.scatter(-1, 3, 2)\n",
    "ax.scatter(2, 0, -3)\n",
    "ax.scatter(0, -1, 1)\n",
    "plt.show()"
   ]
  },
  {
   "cell_type": "markdown",
   "id": "fd71856d",
   "metadata": {},
   "source": [
    "## 1.3.2 Задание:\n",
    "### Задача:\n",
    "\n",
    "Создать 5х5 матрицу со значениями в строках от 0 до 4. Для создания необходимо использовать функцию `arange`.\n",
    "### Решение:"
   ]
  },
  {
   "cell_type": "code",
   "execution_count": 12,
   "id": "ad4fe77d",
   "metadata": {},
   "outputs": [
    {
     "name": "stdout",
     "output_type": "stream",
     "text": [
      "[[0. 1. 2. 3. 4.]\n",
      " [0. 1. 2. 3. 4.]\n",
      " [0. 1. 2. 3. 4.]\n",
      " [0. 1. 2. 3. 4.]\n",
      " [0. 1. 2. 3. 4.]]\n"
     ]
    }
   ],
   "source": [
    "z = np.zeros((5, 5))\n",
    "z += np.arange(5)\n",
    "print(z)"
   ]
  },
  {
   "cell_type": "markdown",
   "id": "9bb66031",
   "metadata": {},
   "source": [
    "## 2.1 Теоретический материал — Задачи классификации\n",
    "### Решение задачи классификации методом k ближайших соседей\n",
    "\n",
    "Метод k-ближайших соседей используется для решения задачи классификации. Он относит объекты к классу, которому принадлежит большинство из k его ближайших соседей в многомерном пространстве признаков. Это один из простейших алгоритмов обучения классификационных моделей. Число k — это количество соседних объектов в пространстве признаков, которые сравниваются с классифицируемым объектом. Иными словами, если `k = 10`, то каждый объект сравнивается с 10-ю соседями. В процессе обучения алгоритм просто запоминает все векторы признаков и соответствующие им метки классов. При работе с реальными данными, т.е. наблюдениями, метки класса которых неизвестны, вычисляется расстояние между вектором нового наблюдения и ранее запомненными. Затем выбирается k ближайших к нему векторов, и новый объект относится к классу, которому принадлежит большинство из них.\n",
    "\n",
    "Приведем алгоритм метода:\n",
    "1. Выберите значение k соседей (скажем, k = 5).\n",
    "2. Найдите ближайшую точку данных k (5) для нашей новой точки данных на основе евклидова расстояния (которое мы обсудим позже).\n",
    "3. Среди этих k точек данных подсчитайте точки данных в каждой категории.\n",
    "4. Назначьте новую точку данных категории, которая имеет наибольшее количество соседей с новой точкой данных.\n",
    "\n",
    "![Тут должна быть картинка :(](./image.jpg)\n",
    "\n",
    "Модуль библиотеки `sklearn` — `sklearn.neighbors` предоставляет функциональные возможности для контролируемого обучения на основе соседей. Обучение на основе контролируемых соседей бывает двух видов: классификация данных с дискретными метками и регрессия для данных с непрерывными метками. В данном разделе рассмотрим несколько примеров с использованием названного метода.\n",
    "## 2.2.1 Пример\n",
    "### Задача:\n",
    "\n",
    "В примере показано создание 2d-массива со значениями x и y. Список target содержит возможные выходные классы (часто называемые метками). Далее происходит обучение классификатора k-ближайших соседей по исходным данным. Далее производится прогноз принажлежности к классам для двух точек данных.\n",
    "### Решение:"
   ]
  },
  {
   "cell_type": "code",
   "execution_count": 13,
   "id": "6fde0765",
   "metadata": {},
   "outputs": [
    {
     "name": "stdout",
     "output_type": "stream",
     "text": [
      "KNeighborsClassifier(n_neighbors=3)\n",
      "(-2, -2) is class [0]\n",
      "(1, 3) is class [1]\n"
     ]
    }
   ],
   "source": [
    "from sklearn.neighbors import KNeighborsClassifier\n",
    "import numpy as np\n",
    "\n",
    "x = np.array([[-1, -1], [-2, -1], [-3, -2], [1, 1], [2, 1], [3, 2]])\n",
    "target = [0, 0, 0, 1, 1, 1]\n",
    "\n",
    "k = 3\n",
    "model = KNeighborsClassifier(n_neighbors = k)\n",
    "model.fit(x, target)\n",
    "print(model)\n",
    "\n",
    "print(f'(-2, -2) is class {model.predict([[-2, -2]])}',\n",
    "      f'(1, 3) is class {model.predict([[1, 3]])}', sep='\\n')"
   ]
  },
  {
   "cell_type": "markdown",
   "id": "6873ab7d",
   "metadata": {},
   "source": [
    "## 2.2.2 Пример\n",
    "### Задача:\n",
    "\n",
    "Далее приведём более наглядный пример. Будет построена граница решения для каждого класса. В качестве данных будем использовать уже знакомый нам и встроенный в библиотеку `sklearn` набор данных ирисов Фишера. Этот набор данных стал уже классическим и часто используется в литературе для иллюстрации работы различных статистических алгоритмов. Датасет содержит наблюдения за 150 разными цветками ирисов, данные по каждому цветку расположены в троках. В столбцах записаны длина и ширина чашелистика, длина и шиирина лепестка, вид ириса.\n",
    "### Решение:"
   ]
  },
  {
   "cell_type": "code",
   "execution_count": 14,
   "id": "59faf3a9",
   "metadata": {},
   "outputs": [
    {
     "ename": "ModuleNotFoundError",
     "evalue": "No module named 'seaborn'",
     "output_type": "error",
     "traceback": [
      "\u001b[0;31m---------------------------------------------------------------------------\u001b[0m",
      "\u001b[0;31mModuleNotFoundError\u001b[0m                       Traceback (most recent call last)",
      "Cell \u001b[0;32mIn[14], line 2\u001b[0m\n\u001b[1;32m      1\u001b[0m \u001b[38;5;28;01mfrom\u001b[39;00m \u001b[38;5;21;01msklearn\u001b[39;00m\u001b[38;5;21;01m.\u001b[39;00m\u001b[38;5;21;01mneighbors\u001b[39;00m \u001b[38;5;28;01mimport\u001b[39;00m KNeighborsClassifier \u001b[38;5;28;01mas\u001b[39;00m KNC\n\u001b[0;32m----> 2\u001b[0m \u001b[38;5;28;01mimport\u001b[39;00m \u001b[38;5;21;01mseaborn\u001b[39;00m \u001b[38;5;28;01mas\u001b[39;00m \u001b[38;5;21;01msns\u001b[39;00m\n\u001b[1;32m      3\u001b[0m iris \u001b[38;5;241m=\u001b[39m sns\u001b[38;5;241m.\u001b[39mload_dataset(\u001b[38;5;124m'\u001b[39m\u001b[38;5;124miris\u001b[39m\u001b[38;5;124m'\u001b[39m)\n\u001b[1;32m      4\u001b[0m iris\n",
      "\u001b[0;31mModuleNotFoundError\u001b[0m: No module named 'seaborn'"
     ]
    }
   ],
   "source": [
    "from sklearn.neighbors import KNeighborsClassifier as KNC\n",
    "import seaborn as sns\n",
    "iris = sns.load_dataset('iris')\n",
    "iris"
   ]
  },
  {
   "cell_type": "markdown",
   "id": "2903d43b",
   "metadata": {},
   "source": [
    "## 2.2.3 Пример\n",
    "### Задача:\n",
    "\n",
    "Покажем на графиках зависимости ширины лепестка от его длины, а также аналогичный график-зависимость для длины и ширины чашелистика. Разные виды цветков отмечены разными цветами.\n",
    "### Решение:"
   ]
  },
  {
   "cell_type": "code",
   "execution_count": null,
   "id": "395c95c5",
   "metadata": {},
   "outputs": [],
   "source": [
    "plt.figure(figsize=(16, 7))\n",
    "\n",
    "# left graph\n",
    "plt.subplot(121)\n",
    "sns.scatterplot(\n",
    "    data=iris,\n",
    "    x='petal_width', y='petal_length',\n",
    "    hue='species',\n",
    "    s=70\n",
    ")\n",
    "plt.xlabel('Длина лепестка, см')\n",
    "plt.ylabel('Ширина лепестка, см')\n",
    "plt.legend()\n",
    "plt.grid()\n",
    "\n",
    "# right graph\n",
    "plt.subplot(122)\n",
    "sns.scatterplot(\n",
    "    data=iris,\n",
    "    x='sepal_width', y='sepal_length',\n",
    "    hue='species',\n",
    "    s=70\n",
    ")\n",
    "plt.xlabel('Длина чашелистика, см')\n",
    "plt.ylabel('Ширина чашелистика, см')\n",
    "plt.legend()\n",
    "plt.grid()"
   ]
  },
  {
   "cell_type": "markdown",
   "id": "f61dd3d4",
   "metadata": {},
   "source": [
    "## 2.2.4 Пример\n",
    "### Задача:\n",
    "\n",
    "Из графиков видно, что в первом случае классы визуально хорошо отделимы друг от друга, хотя два класса имеют небольшое пересечение. Во втором случае разделить два класса между собой уже намного труднее.\n",
    "\n",
    "Далее разделим датасет на обучающую и тестовую выборки в соотношении 80:20. Обучающая выборка (training sample) — выборка, по которой производится настройка (оптимизация параметров) модели зависимости. Тестовая (или контрольная) выборка (test sample) — выборка, по которой оценивается качество построенной модели.\n",
    "### Решение:"
   ]
  },
  {
   "cell_type": "code",
   "execution_count": null,
   "id": "8a3460ac",
   "metadata": {},
   "outputs": [],
   "source": [
    "from sklearn.model_selection import train_test_split\n",
    "\n",
    "x_train, x_test, y_train, y_test = train_test_split(iris.iloc[:, :-1],\n",
    "                                                    iris.iloc[:, -1],\n",
    "                                                    test_size = 0.20\n",
    ")\n",
    "\n",
    "x_train.shape, x_test.shape, y_train.shape, y_test.shape"
   ]
  },
  {
   "cell_type": "code",
   "execution_count": null,
   "id": "51ce7670",
   "metadata": {},
   "outputs": [],
   "source": [
    "x_train.head()"
   ]
  },
  {
   "cell_type": "code",
   "execution_count": null,
   "id": "9e799b10",
   "metadata": {},
   "outputs": [],
   "source": [
    "y_train.head()"
   ]
  },
  {
   "cell_type": "code",
   "execution_count": null,
   "id": "5e927468",
   "metadata": {},
   "outputs": [],
   "source": [
    "model = KNC(n_neighbors=3)\n",
    "model.fit(x_train, y_train)\n",
    "\n",
    "y_pred = model.predict(x_test)\n",
    "y_pred"
   ]
  },
  {
   "cell_type": "code",
   "execution_count": null,
   "id": "33dae038",
   "metadata": {},
   "outputs": [],
   "source": [
    "plt.figure(figsize=(10, 7))\n",
    "sns.scatterplot(\n",
    "    data=iris,\n",
    "    x='petal_width', y='petal_length',\n",
    "    hue='species',\n",
    "    s=70\n",
    ")\n",
    "plt.xlabel('Длина лепестка, см')\n",
    "plt.ylabel('Ширина лепестка, см')\n",
    "plt.legend(loc=2)\n",
    "plt.grid()\n",
    "\n",
    "for i in range(len(y_test)):\n",
    "    if np.array(y_test)[i] != y_pred[i]:\n",
    "        plt.scatter(x_test.iloc[i, 3], x_test.iloc[i, 2], c='r', s=150)"
   ]
  },
  {
   "cell_type": "code",
   "execution_count": null,
   "id": "392fea77",
   "metadata": {},
   "outputs": [],
   "source": [
    "from sklearn.metrics import accuracy_score\n",
    "print(f'accuracy: {accuracy_score(y_test, y_pred):.3}')"
   ]
  },
  {
   "cell_type": "markdown",
   "id": "0cbec137",
   "metadata": {},
   "source": [
    "## 2.3.1 Задание\n",
    "### Задача:\n",
    "\n",
    "Для предыдущего примера поэкспериментируйте с параметрами классификатора:\n",
    "1. Установите другое количество ближайших соседей (k = 1, 5, 10).\n",
    "2. Установите размер тестовой выборки 15% от всего датасета.\n",
    "3. Постройте графики и оцените качество моделей, проанализируйте результаты.\n",
    "### Решение:"
   ]
  },
  {
   "cell_type": "code",
   "execution_count": null,
   "id": "ae01f2d9",
   "metadata": {},
   "outputs": [],
   "source": [
    "# different k-values and basic 20% sample\n",
    "k_values = [1, 5, 10]\n",
    "accuracies_20 = [0, 0, 0]\n",
    "for k in range(3):\n",
    "    model = KNC(n_neighbors=k_values[k])\n",
    "    model.fit(x_train, y_train)\n",
    "    y_pred = model.predict(x_test)\n",
    "    \n",
    "    plt.figure(figsize=(7, 18))\n",
    "    plt.subplot(int(f'31{k+1}'))\n",
    "    sns.scatterplot(\n",
    "        data=iris,\n",
    "        x='petal_width', y='petal_length',\n",
    "        hue='species',\n",
    "        s=70\n",
    "    )\n",
    "    plt.xlabel('Длина лепестка, см')\n",
    "    plt.ylabel('Ширина лепестка, см')\n",
    "    plt.legend()\n",
    "    plt.grid()\n",
    "    \n",
    "    for i in range(len(y_test)):\n",
    "        if np.array(y_test)[i] != y_pred[i]:\n",
    "            plt.scatter(x_test.iloc[i, 3], x_test.iloc[i, 2], c='r', s=150)\n",
    "    \n",
    "    print(f'accuracy (k = {k_values[k]}): {accuracy_score(y_test, y_pred):.3}')\n",
    "    accuracies_20[k] = float(f'{accuracy_score(y_test, y_pred):.3}')"
   ]
  },
  {
   "cell_type": "code",
   "execution_count": null,
   "id": "03f9de00",
   "metadata": {},
   "outputs": [],
   "source": [
    "# different k-values and new 15% sample\n",
    "k_values = [1, 5, 10]\n",
    "accuracies_15 = [0, 0, 0]\n",
    "for k in range(3):\n",
    "    x_train, x_test, y_train, y_test = train_test_split(iris.iloc[:, :-1],\n",
    "                                                    iris.iloc[:, -1],\n",
    "                                                    test_size = 0.15\n",
    "    )\n",
    "\n",
    "    model = KNC(n_neighbors=k_values[k])\n",
    "    model.fit(x_train, y_train)\n",
    "    y_pred = model.predict(x_test)\n",
    "    \n",
    "    plt.figure(figsize=(7, 18))\n",
    "    plt.subplot(int(f'31{k+1}'))\n",
    "    sns.scatterplot(\n",
    "        data=iris,\n",
    "        x='petal_width', y='petal_length',\n",
    "        hue='species',\n",
    "        s=70\n",
    "    )\n",
    "    plt.xlabel('Длина лепестка, см')\n",
    "    plt.ylabel('Ширина лепестка, см')\n",
    "    plt.legend()\n",
    "    plt.grid()\n",
    "    \n",
    "    for i in range(len(y_test)):\n",
    "        if np.array(y_test)[i] != y_pred[i]:\n",
    "            plt.scatter(x_test.iloc[i, 3], x_test.iloc[i, 2], c='r', s=150)\n",
    "    \n",
    "    print(f'accuracy (k = {k_values[k]}): {accuracy_score(y_test, y_pred):.3}')\n",
    "    accuracies_15[k] = float(f'{accuracy_score(y_test, y_pred):.3}')"
   ]
  },
  {
   "cell_type": "code",
   "execution_count": null,
   "id": "7f333e08",
   "metadata": {},
   "outputs": [],
   "source": [
    "for x, y in zip(accuracies_20, accuracies_15):\n",
    "    print(f'20% — {x} | 15% — {y}')"
   ]
  },
  {
   "cell_type": "markdown",
   "id": "96ae9aba",
   "metadata": {},
   "source": [
    "## 3.1. Теоретический материал – Работа с категориальными данными\n",
    "### Работа с категориальными данными\n",
    "\n",
    "Часто бывает полезно разбивать объекты на категории не по количеству, а по качеству. Эта качественная информация нередко представляется как принадлежность наблюдения к отдельной категории, такой как пол, цвета или марка автомобиля. Однако не все категориальные данные одинаковые. Наборы категорий без внутреннего упорядочения называются номинальными. Примеры номинальных категорий включают:\n",
    "- синий, красный, зеленый;\n",
    "- мужчина, женщина;\n",
    "- банан, клубника, яблоко.\n",
    "\n",
    "C другой стороны, когда набор категорий имеет некое естественное\n",
    "упорядочение, мы называем его порядковым. Например:\n",
    "- низкий, средний, высокий;\n",
    "- молодые, старые;\n",
    "- согласен, нейтрален, не согласен.\n",
    "\n",
    "Более того, категориальная информация часто представлена в данных в виде вектора или столбца символьных значений (например, \"Москва\", \"Санкт-Петербург\", \"Казань\"). Проблема в том, что большинство машиннообучающихся алгоритмов требуют ввода числовых значений.  \n",
    "Алгоритм k ближайших соседей предоставляет простой пример. Одним из шагов в алгоритме является вычисление расстояний между\n",
    "наблюдениями — часто с использованием евклидова расстояния. Однако вычисление расстояния, очевидно, невозможно, если значение х, является строковым типом (например, \"Москва\"). Для того чтобы его можно было ввести в уравнение евклидова расстояния, нам нужно преобразовать это строковое значение в числовой формат. Наша цель — сделать преобразование, которое правильно передает информацию в категориях (упорядоченность, относительные интервалы между категориями и т. д.).\n",
    "Существует большое количество методов кодирования категориальных данных, среди которых нет универсальных. Выбирая метод, стоит\n",
    "отталкиваться от ваших данных, мощности множества категорий и алгоритма машинного обучения.\n",
    "\n",
    "Далее рассмотрим некоторые методы таких преобразований.\n",
    "## 3.2.1. Пример\n",
    "### Задача:\n",
    "\n",
    "Дан порядковый категориальный признак (например, высокий, средний, низкий). Выполнить его кодировку.\n",
    "\n",
    "Для решения задачи можно использовать метод `replace` фрейма данных `pandas` для преобразования строковых меток в числовые эквиваленты.\n",
    "### Решение:"
   ]
  },
  {
   "cell_type": "code",
   "execution_count": null,
   "id": "917eb234",
   "metadata": {},
   "outputs": [],
   "source": [
    "import pandas as pd\n",
    "\n",
    "df = pd.DataFrame({\"оценка\": [\"низкая\", \"низкая\", \"низкая\", \"средняя\", \"средняя\", \"высокая\"]})\n",
    "scale_mapper = {\"низкая\": 1, \"средняя\": 2, \"высокая\": 3}\n",
    "\n",
    "# Заменить значения признаков значениями словаря\n",
    "df[\"оценка\"].replace(scale_mapper)"
   ]
  },
  {
   "cell_type": "markdown",
   "id": "41fa8663",
   "metadata": {},
   "source": [
    "## 3.2.2 Пример\n",
    "### Задача:\n",
    "\n",
    "Дан словарь, и требуется его конвертировать в матрицу признаков. Для решения задачи можно задействовать класс-векторизатор словаря `Dictvectorizer`.\n",
    "### Решение:"
   ]
  },
  {
   "cell_type": "code",
   "execution_count": null,
   "id": "3a2fd558",
   "metadata": {},
   "outputs": [],
   "source": [
    "from sklearn.feature_extraction import DictVectorizer\n",
    "\n",
    "data_dict = [{\"красный\":2, \"синий\": 4},\n",
    "             {\"красный\":4, \"синий\": 3},\n",
    "             {\"красный\":1, \"желтый\": 2},\n",
    "             {\"красный\":2, \"желтый\": 2}]\n",
    "\n",
    "# Создать векторизатор словаря\n",
    "dictvectorizer = DictVectorizer(sparse=False)\n",
    "\n",
    "# Конвертировать словарь в матрицу признаков\n",
    "features = dictvectorizer.fit_transform(data_dict)\n",
    "\n",
    "features"
   ]
  },
  {
   "cell_type": "markdown",
   "id": "5f298826",
   "metadata": {},
   "source": [
    "## 3.2.3 Задание\n",
    "### Задача:\n",
    "\n",
    "Определите набор признаков человека, по аналогии из РТ 1, — например, цвет глаз и конвертируйте его в матрицу признаков.\n",
    "### Решение:"
   ]
  },
  {
   "cell_type": "code",
   "execution_count": null,
   "id": "9cb262a8",
   "metadata": {},
   "outputs": [],
   "source": []
  }
 ],
 "metadata": {
  "kernelspec": {
   "display_name": "Python 3 (ipykernel)",
   "language": "python",
   "name": "python3"
  },
  "language_info": {
   "codemirror_mode": {
    "name": "ipython",
    "version": 3
   },
   "file_extension": ".py",
   "mimetype": "text/x-python",
   "name": "python",
   "nbconvert_exporter": "python",
   "pygments_lexer": "ipython3",
   "version": "3.11.2"
  }
 },
 "nbformat": 4,
 "nbformat_minor": 5
}
